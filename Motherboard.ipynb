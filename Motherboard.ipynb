{
 "cells": [
  {
   "cell_type": "code",
   "execution_count": null,
   "metadata": {},
   "outputs": [],
   "source": [
    "from selenium import webdriver\n",
    "from selenium.webdriver.common.keys import Keys\n",
    "import pandas as pd\n",
    "import time\n",
    "import csv \n",
    "from bs4 import BeautifulSoup\n",
    "from multiprocessing import Pool\n",
    "import os\n",
    "\n",
    "url_list = \"https://www.asus.com/us/Motherboards/AllProducts/\"\n",
    "driver = webdriver.PhantomJS('D:\\\\Github\\\\MovieCrawler\\\\phantomjs.exe')\n",
    "# get()方法會一直等到頁面被完全加載，然後才會繼續程序\n",
    "driver.get(url_list)\n",
    "\n",
    "# 把selenium的webdriver调用page_source函数在传入BeautifulSoup中，就可以用BeautifulSoup解析网页了\n",
    "html = driver.page_source\n",
    "soup = BeautifulSoup(html, \"html.parser\")\n",
    "\n",
    "\n",
    "# 打印頁面標題：XXXX年最新电影_第1页-BT电影天堂\n",
    "print(driver.title)"
   ]
  },
  {
   "cell_type": "markdown",
   "metadata": {},
   "source": [
    "### 抓所有主板規格的URL"
   ]
  },
  {
   "cell_type": "code",
   "execution_count": null,
   "metadata": {},
   "outputs": [],
   "source": [
    "f = open('MB_SPEC_LINK.txt', 'w', encoding = 'UTF-8')    # 也可使用指定路徑等方式，如： C:\\A.txt\n",
    "div_list = soup.find_all('div', class_='product_level_1')\n",
    "for div in div_list:\n",
    "    li_list = div.find('ul', class_='unstyled all-model-list').contents\n",
    "    for li in li_list:\n",
    "        a = li.find('a')\n",
    "        ##只要herf用中括號就可, 用herf = a.get_attribute('href')會跳error\n",
    "        print(a['href'])\n",
    "        f.write('https://www.asus.com' + a['href'] + 'specifications/' + '\\n')\n",
    "f.close() \n"
   ]
  },
  {
   "cell_type": "markdown",
   "metadata": {},
   "source": [
    "### 改用Dictionary來存網址, 避免重複"
   ]
  },
  {
   "cell_type": "code",
   "execution_count": null,
   "metadata": {},
   "outputs": [],
   "source": [
    "Mb_URL_dic = {}\n",
    "for div in div_list:\n",
    "    li_list = div.find('ul', class_='unstyled all-model-list').contents\n",
    "    for li in li_list:\n",
    "        a = li.find('a')\n",
    "        ##只要herf用中括號就可, 用herf = a.get_attribute('href')會跳error\n",
    "        Mb_URL_dic[a.text] = ('https://www.asus.com' + a['href'] + 'specifications/')\n",
    "Mb_URL_dic\n"
   ]
  },
  {
   "cell_type": "markdown",
   "metadata": {},
   "source": [
    "### 抓SPEC"
   ]
  },
  {
   "cell_type": "code",
   "execution_count": null,
   "metadata": {},
   "outputs": [],
   "source": [
    "# SPEC_URL_list=[]\n",
    "# f = open(\"D:\\\\Github\\\\MovieCrawler\\\\MB_SPEC_LINK.txt\",\"r\", encoding = 'UTF-8')\n",
    "# for line in f:\n",
    "#     SPEC_URL_list.append(line[:-1])\n",
    "# f.close()\n",
    "\n",
    "   \n",
    "\n",
    "# url_list = \"https://www.asus.com/us/Motherboards/H110S1-CSM/specifications/\"\n",
    "# driver.get(url_list)\n",
    "# html = driver.page_source\n",
    "# soup = BeautifulSoup(html, \"html.parser\")\n",
    "# soup_title_list = soup.find_all('span', class_='spec-item')\n",
    "# soup_data_list = soup.find_all('div', class_='spec-data')\n",
    "# MB_name = soup.find('h1', class_='page-title').text\n",
    "\n",
    "# title_list =['Board name']\n",
    "# data_list = [MB_name]\n",
    "\n",
    "# for title in soup_title_list:\n",
    "#     title_list.append(title.text)\n",
    "# for data in soup_data_list:\n",
    "#     data_list.append(data.text)\n",
    "\n",
    "## create DataFrame with title list\n",
    "df = pd.DataFrame()\n",
    "# df = df.append(pd.Series(data_list,index=title_list),ignore_index=True)\n",
    "\n",
    "# print(title_list)\n",
    "\n",
    "for link in Mb_URL_dic.values():\n",
    "    driver.get(link)\n",
    "    html = driver.page_source\n",
    "    soup = BeautifulSoup(html, \"html.parser\")\n",
    "    soup_title_list = soup.find_all('span', class_='spec-item')\n",
    "    soup_data_list = soup.find_all('div', class_='spec-data')\n",
    "    MB_name = soup.find('h1', class_='page-title').text\n",
    "\n",
    "    title_list =['Board name']\n",
    "    data_list = [MB_name]\n",
    "\n",
    "    for title in soup_title_list:\n",
    "        title_list.append(title.text)\n",
    "    for data in soup_data_list:\n",
    "        data_list.append(data.text)\n",
    "\n",
    "\n",
    "    if soup_title_list :\n",
    "        soup_data_list = soup.find_all('div', class_='spec-data')\n",
    "        MB_name = soup.find('h1', class_='page-title').text\n",
    "        data_list= [MB_name]\n",
    "        for data in soup_data_list:\n",
    "            data_list.append(data.text)\n",
    "        print(data_list)\n",
    "        try :\n",
    "            df = df.append(pd.Series(data_list,index=title_list),ignore_index=True)\n",
    "        except ValueError:\n",
    "            print(\"Error MB page : \" + MB_name)\n",
    "    else :\n",
    "        continue\n",
    "df"
   ]
  },
  {
   "cell_type": "code",
   "execution_count": null,
   "metadata": {},
   "outputs": [],
   "source": [
    "##Dataframe to csv file\n",
    "\n",
    "df.to_csv (\"mb_spec.csv\" , encoding = \"utf-8\")"
   ]
  },
  {
   "cell_type": "code",
   "execution_count": null,
   "metadata": {},
   "outputs": [],
   "source": [
    "from pymongo import MongoClient\n",
    "from datetime import datetime\n",
    "\n",
    "uri = \"mongodb://10.78.20.176:27017/\"\n",
    "\n",
    "client = MongoClient(uri)\n",
    "db = client.test\n",
    "db.authenticate(\"denny\",\"1234\")\n",
    "print(db.name)\n",
    "col = db.testcollection\n",
    "print(col)\n",
    "# col.insert_one({\"name\":'yanying','province':'江苏','age':25})\n",
    "\n",
    "col.insert_many([\n",
    "    {\"name\":'张三','province':'浙江','age':24},\n",
    "    {\"name\":'张三1','province':'浙江1','age':25},\n",
    "    {\"name\":'张三2','province':'浙江2','age':26},\n",
    "    {\"name\":'张三3','province':'浙江3','age':28},\n",
    "])\n",
    "\n",
    "def show(collection):\n",
    "    # 查詢\n",
    "    for item in collection.find():\n",
    "        print(item)\n",
    "\n",
    "show(col)"
   ]
  },
  {
   "cell_type": "code",
   "execution_count": null,
   "metadata": {
    "scrolled": true
   },
   "outputs": [],
   "source": [
    "# mb_spec.csv\n",
    "import json\n",
    "def mongoimport(csv_path, db_name, coll_name, db_url='10.78.20.176', db_port=27017):\n",
    "    \"\"\" Imports a csv file at path csv_name to a mongo colection\n",
    "    returns: count of the documants in the new collection\n",
    "    \"\"\"\n",
    "    client = MongoClient(db_url, db_port)\n",
    "    db = client[db_name]\n",
    "    db.authenticate(\"denny\",\"1234\")\n",
    "    coll = db[coll_name]\n",
    "    data = pd.read_csv(csv_path)\n",
    "    payload = json.loads(data.to_json(orient='records'))\n",
    "    coll.remove()\n",
    "    coll.insert(payload)\n",
    "    return coll.count()\n",
    "\n",
    "\n",
    "mongoimport(\"mb_spec.csv\", \"test\", \"testcollection\")"
   ]
  },
  {
   "cell_type": "code",
   "execution_count": null,
   "metadata": {},
   "outputs": [],
   "source": [
    "def mongoexportcsv(csv_path, db_name, coll_name, db_url='10.78.20.176', db_port=27017):\n",
    "    \"\"\" \n",
    "    \"\"\"\n",
    "    #connect mongodb\n",
    "    client = MongoClient(db_url, db_port)\n",
    "    db = client[db_name]\n",
    "    db.authenticate(\"denny\",\"1234\")\n",
    "    coll = db[coll_name]\n",
    "    with open('output_j.json', 'w') as f:\n",
    "        #clean file\n",
    "        f.truncate()\n",
    "        data = list()\n",
    "        for item in coll.find():\n",
    "            del item['_id']\n",
    "            data.append(item)\n",
    "        f.write(json.dumps(data))\n",
    "\n",
    "    # json to csv\n",
    "    # json文件\n",
    "    json_file = open('output_j.json', 'r')\n",
    "    # csv文件\n",
    "    csv_file = open(csv_path, 'w',encoding=\"utf-8\")\n",
    "    # csv读写器\n",
    "    csv_writer = csv.writer(csv_file)\n",
    "    # 表头和正文\n",
    "    data = json.load(json_file)\n",
    "    # 表头\n",
    "    sheet_title = data[0].keys()\n",
    "    content_list = [dic.values() for dic in data]\n",
    "    # 5.通过读写器 写入csv文件\n",
    "    csv_writer.writerow(sheet_title)\n",
    "    csv_writer.writerows(content_list)\n",
    "    # 6.关闭文件\n",
    "    json_file.close()\n",
    "    csv_file.close()\n",
    "    client.close()\n",
    "    return coll.count()\n",
    "\n",
    "\n",
    "mongoexportcsv(\"output.csv\", \"test\", \"testcollection\")\n",
    "\n"
   ]
  },
  {
   "cell_type": "code",
   "execution_count": null,
   "metadata": {},
   "outputs": [],
   "source": []
  }
 ],
 "metadata": {
  "kernelspec": {
   "display_name": "Python 3",
   "language": "python",
   "name": "python3"
  },
  "language_info": {
   "codemirror_mode": {
    "name": "ipython",
    "version": 3
   },
   "file_extension": ".py",
   "mimetype": "text/x-python",
   "name": "python",
   "nbconvert_exporter": "python",
   "pygments_lexer": "ipython3",
   "version": "3.6.4"
  }
 },
 "nbformat": 4,
 "nbformat_minor": 2
}
