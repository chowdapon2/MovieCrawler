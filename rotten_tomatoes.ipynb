{
 "cells": [
  {
   "cell_type": "code",
   "execution_count": 1,
   "metadata": {},
   "outputs": [],
   "source": [
    "#https://www.rottentomatoes.com/top-tv/\n",
    "\n",
    "import requests\n",
    "import pandas as pd\n",
    "import time\n",
    "import csv \n",
    "from pyquery import PyQuery as pq\n",
    "import scrapy\n",
    "\n",
    "response = requests.get('https://www.asus.com/us/Motherboards/AllProducts/')\n",
    "doc_r = pq(response.text)"
   ]
  },
  {
   "cell_type": "code",
   "execution_count": null,
   "metadata": {},
   "outputs": [],
   "source": []
  }
 ],
 "metadata": {
  "kernelspec": {
   "display_name": "Python 3",
   "language": "python",
   "name": "python3"
  },
  "language_info": {
   "codemirror_mode": {
    "name": "ipython",
    "version": 3
   },
   "file_extension": ".py",
   "mimetype": "text/x-python",
   "name": "python",
   "nbconvert_exporter": "python",
   "pygments_lexer": "ipython3",
   "version": "3.6.4"
  }
 },
 "nbformat": 4,
 "nbformat_minor": 2
}
