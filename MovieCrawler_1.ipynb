{
 "cells": [
  {
   "cell_type": "code",
   "execution_count": 1,
   "metadata": {},
   "outputs": [
    {
     "name": "stdout",
     "output_type": "stream",
     "text": [
      "2018年最新电影_第1页-BT电影天堂\n"
     ]
    }
   ],
   "source": [
    "from selenium import webdriver\n",
    "from selenium.webdriver.common.keys import Keys\n",
    "import time\n",
    "from bs4 import BeautifulSoup\n",
    "\n",
    "url_list = \"http://www.btbtdy.com/screen/1--2018---time-1.html\"\n",
    "\n",
    "driver = webdriver.PhantomJS('D:\\\\Github\\\\MovieCrawler\\\\phantomjs.exe')\n",
    "# get()方法會一直等到頁面被完全加載，然後才會繼續程序\n",
    "driver.get(url_list)\n",
    "\n",
    "# 把selenium的webdriver调用page_source函数在传入BeautifulSoup中，就可以用BeautifulSoup解析网页了\n",
    "html = driver.page_source\n",
    "soup = BeautifulSoup(html, \"html.parser\")\n",
    "#print (soup.prettify())\n",
    "# p_list = soup.find_all('p', class_='title')\n",
    "\n",
    "# for p in p_list:\n",
    "#     print(p.contents[0].text)\n",
    "\n",
    "\n",
    "# a_list = soup.find_all('a', target='_blank')\n",
    "# for a in a_list:\n",
    "#     print(a)\n",
    "#     print(\"a.content is %s\" % (a.contents))  \n",
    "\n",
    "# a_list = soup.find_all('a', target='_blank')\n",
    "# for a in a_list:\n",
    "#     print(a)\n",
    "#     print(\"a.content is %s\" % (a.contents))  \n",
    "\n",
    "\n",
    "\n",
    "# 打印獲取的文本內容\n",
    "#print(data)\n",
    "\n",
    "# 打印頁面標題：XXXX年最新电影_第1页-BT电影天堂\n",
    "print(driver.title)\n",
    "\n",
    "p_list = soup.find_all('p', class_='title')\n",
    "f = open('MovieNames.txt', 'w', encoding = 'UTF-8')    # 也可使用指定路徑等方式，如： C:\\A.txt\n",
    "for p in p_list:\n",
    "    f.write(p.contents[0].text + '\\n')\n",
    "\n",
    "f.close()    \n",
    "    \n",
    "driver.quit()\n",
    "\n",
    "# http://www.btbtdy.com/ herf=btdy/dy11737.html"
   ]
  },
  {
   "cell_type": "markdown",
   "metadata": {},
   "source": [
    "## 讀取txt檔案"
   ]
  },
  {
   "cell_type": "code",
   "execution_count": 11,
   "metadata": {},
   "outputs": [
    {
     "name": "stdout",
     "output_type": "stream",
     "text": [
      "['末栈之黑水', '末栈之怪笔新娘', 'S4侠降魔记', '移动迷宫3：死亡解药', '奇迹男孩', '大世界']\n"
     ]
    }
   ],
   "source": [
    "movieNameList=[]\n",
    "f = open(\"D:\\\\Github\\\\MovieCrawler\\\\MovieNames.txt\",\"r\", encoding = 'UTF-8')\n",
    "for line in f:\n",
    "    #print(line[:-1])\n",
    "    movieNameList.append(line[:-1])\n",
    "#In [13]:l = list(range(10))\n",
    "#In [13]: l\n",
    "#Out[13]: [0, 1, 2, 3, 4, 5, 6, 7, 8, 9]\n",
    "#In [16]: l[:-1]\n",
    "#Out[16]: [0, 1, 2, 3, 4, 5, 6, 7, 8]\n",
    "\n",
    "f.close() \n",
    "# for i in movieNameList:\n",
    "#     print(i)\n",
    "print (movieNameList[0:6])\n"
   ]
  },
  {
   "cell_type": "markdown",
   "metadata": {},
   "source": [
    "## 爬Imdb頁面"
   ]
  },
  {
   "cell_type": "code",
   "execution_count": null,
   "metadata": {
    "collapsed": true
   },
   "outputs": [],
   "source": [
    "from selenium import webdriver\n",
    "from selenium.webdriver.common.keys import Keys\n",
    "import time\n",
    "from bs4 import BeautifulSoup\n",
    "\n",
    "url_list = \"http://www.imdb.com/title/tt5556068/\"\n",
    "\n",
    "driver = webdriver.PhantomJS('D:\\\\Github\\\\MovieCrawler\\\\phantomjs.exe')\n",
    "driver.get(url_list)\n",
    "\n",
    "# 把selenium的webdriver调用page_source函数在传入BeautifulSoup中，就可以用BeautifulSoup解析网页了\n",
    "html = driver.page_source\n",
    "soup = BeautifulSoup(html, \"html.parser\")\n",
    "\n",
    "d_list = soup.find_all('div', class_='ratingValue')\n",
    "\n",
    "print(d_list)\n",
    "# for d in d_list:\n",
    "#     print(d.descendants)\n",
    "\n",
    "driver.quit()"
   ]
  },
  {
   "cell_type": "markdown",
   "metadata": {},
   "source": [
    "### 實際測試\n",
    "#### 為了不要一直import , 先import一次"
   ]
  },
  {
   "cell_type": "code",
   "execution_count": 20,
   "metadata": {
    "collapsed": true
   },
   "outputs": [],
   "source": [
    "from selenium import webdriver\n",
    "from selenium.webdriver.common.keys import Keys\n",
    "import pandas as pd\n",
    "import time\n",
    "from bs4 import BeautifulSoup\n",
    "from multiprocessing import Pool\n",
    "import os"
   ]
  },
  {
   "cell_type": "code",
   "execution_count": 21,
   "metadata": {},
   "outputs": [
    {
     "name": "stdout",
     "output_type": "stream",
     "text": [
      "[['母亲！', 'https://movie.douban.com/subject/26648284/', '豆瓣 : 6.6', 'Imdb 連結: http://www.imdb.com/title/tt5109784', 'IMDB : 6.8/10', 'Mother! (2017)']]\n",
      "Wall time: 1min 8s\n"
     ]
    }
   ],
   "source": [
    "%%time\n",
    "totalList = []\n",
    "\n",
    "def getDobanAndImdbRating(movieName):\n",
    "    doubanUrl_list = \"https://movie.douban.com/\"\n",
    "    driver = webdriver.PhantomJS('D:\\\\Github\\\\MovieCrawler\\\\phantomjs.exe')\n",
    "    driver.get(doubanUrl_list)\n",
    "    outputList=[]\n",
    "    \n",
    "    # 把selenium的webdriver调用page_source函数在传入BeautifulSoup中，就可以用BeautifulSoup解析网页了\n",
    "    html = driver.page_source\n",
    "    soup = BeautifulSoup(html, \"html.parser\")\n",
    "\n",
    "    #找豆瓣電影的search bar\n",
    "    inputSearch = driver.find_element_by_name(\"search_text\")\n",
    "    ChineseMovieName = movieName\n",
    "    inputSearch.send_keys(ChineseMovieName)\n",
    "    inputSearch.submit()\n",
    "    #time.sleep(2)\n",
    "\n",
    "    #印出找到的電影名稱跟豆瓣評分\n",
    "    searchOutput = driver.find_element_by_class_name(\"title\")\n",
    "    outputList.append(ChineseMovieName)\n",
    "    searchHerf = searchOutput.find_element_by_css_selector('a').get_attribute('href')\n",
    "    outputList.append(searchHerf)\n",
    "    rating_num = driver.find_element_by_class_name(\"rating_nums\")\n",
    "    outputList.append(\"豆瓣 : \"+rating_num.text)\n",
    "    \n",
    "    #點進去該電影後找Imdb的連結\n",
    "    driver.get(searchHerf)\n",
    "    # get()方法會一直等到頁面被完全加載，然後才會繼續程序, 所以不需要sleep等待\n",
    "    html = driver.page_source\n",
    "    try:\n",
    "        IMDBLink = driver.find_element_by_partial_link_text(\"tt\").get_attribute('href')\n",
    "    except:\n",
    "        print (\"There is no IMDB!\")\n",
    "        outputList.append(\"沒有Imdb 連結\")\n",
    "        return outputList\n",
    "    outputList.append(\"Imdb 連結: \" +IMDBLink)\n",
    "    driver.get(IMDBLink)\n",
    "    #html = driver.page_source\n",
    "    #soup = BeautifulSoup(html, \"html.parser\")\n",
    "    try:\n",
    "        ImdbRating = driver.find_element_by_class_name(\"ratingValue\")\n",
    "    except:\n",
    "        print (\"There is no IMDB rating!\")\n",
    "        outputList.append(\"沒有Imdb rating\")\n",
    "        return outputList\n",
    "    outputList.append(\"IMDB : \" +ImdbRating.text)\n",
    "    imdbMovieName = driver.find_element_by_xpath(\"//*[@id='title-overview-widget']//h1\")\n",
    "    outputList.append(imdbMovieName.text)\n",
    "    \n",
    "    return outputList\n",
    "\n",
    "# for i in movieNameList:\n",
    "#     totalList.append(getDobanAndImdbRating(i))\n",
    "#     print(totalList)\n",
    "#     print(\"==============================================================================\")\n",
    "totalList.append(getDobanAndImdbRating(movieNameList[5]))\n",
    "print(totalList)\n",
    "\n",
    "# p = Pool(4) # 设置进程池大小\n",
    "# for i in movieNameList[0:4]:\n",
    "#     p.apply_async(getDobanAndImdbRating, args=(i,)) # 设置每个进程要执行的函数和参数\n",
    "# print('Waiting for all subprocesses done...')\n",
    "# p.close()\n",
    "# p.join()\n",
    "# print('All subprocesses done.')\n",
    "        "
   ]
  },
  {
   "cell_type": "code",
   "execution_count": null,
   "metadata": {
    "collapsed": true
   },
   "outputs": [],
   "source": []
  },
  {
   "cell_type": "markdown",
   "metadata": {},
   "source": [
    "## 整理code如下\n"
   ]
  },
  {
   "cell_type": "code",
   "execution_count": 22,
   "metadata": {
    "scrolled": false
   },
   "outputs": [
    {
     "name": "stdout",
     "output_type": "stream",
     "text": [
      "奇迹男孩 Wonder (2017)\n",
      "https://movie.douban.com/subject/26787574/\n",
      "豆瓣 : 8.6\n",
      "http://www.imdb.com/title/tt2543472\n"
     ]
    }
   ],
   "source": [
    "from selenium import webdriver\n",
    "from selenium.webdriver.common.keys import Keys\n",
    "import pandas as pd\n",
    "import time\n",
    "from bs4 import BeautifulSoup\n",
    "\n",
    "url_list = \"https://movie.douban.com/\"\n",
    "\n",
    "driver = webdriver.PhantomJS('D:\\\\Github\\\\MovieCrawler\\\\phantomjs.exe')\n",
    "driver.get(url_list)\n",
    "\n",
    "# 把selenium的webdriver调用page_source函数在传入BeautifulSoup中，就可以用BeautifulSoup解析网页了\n",
    "html = driver.page_source\n",
    "soup = BeautifulSoup(html, \"html.parser\")\n",
    "\n",
    "#找豆瓣電影的search bar\n",
    "inputSearch = driver.find_element_by_name(\"search_text\")\n",
    "\n",
    "#這邊輸入你要的中文電影名稱 EX: ChineseMovieName = u\"挖崊老ㄙ\"\n",
    "#ChineseMovieName = u\"天才槍手\"\n",
    "\n",
    "##改成用txt黨輸入要找的電影名稱\n",
    "movieNameList=[]\n",
    "f = open(\"D:\\\\Github\\\\MovieCrawler\\\\MovieNames.txt\",\"r\", encoding = 'UTF-8')\n",
    "for line in f:\n",
    "    movieNameList.append(line[:-1])\n",
    "\n",
    "f.close()\n",
    "\n",
    "ChineseMovieName = movieNameList[4]\n",
    "\n",
    "\n",
    "inputSearch.send_keys(ChineseMovieName)\n",
    "inputSearch.submit()\n",
    "time.sleep(2)\n",
    "\n",
    "#印出找到的電影名稱跟豆瓣評分\n",
    "searchOutput = driver.find_element_by_class_name(\"title\")\n",
    "print(searchOutput.text)\n",
    "searchHerf = searchOutput.find_element_by_css_selector('a').get_attribute('href')\n",
    "print(searchHerf)\n",
    "rating_num = driver.find_element_by_class_name(\"rating_nums\")\n",
    "print(\"豆瓣 : \"+rating_num.text)\n",
    "\n",
    "#點進去該電影後找Imdb的連結\n",
    "driver.get(searchHerf)\n",
    "# get()方法會一直等到頁面被完全加載，然後才會繼續程序, 所以不需要sleep等待\n",
    "#time.sleep(3)\n",
    "html = driver.page_source\n",
    "IMDBLink = driver.find_element_by_partial_link_text(\"tt\").get_attribute('href')\n",
    "#IMDBLink = IMDBLink.find_element_by_css_selector('a').get_attribute('href')\n",
    "#//span[contains(@class, 'pl')]\n",
    "#//a[contains(text(), 'tt')]/@href\n",
    "#//a[contains(@href, 'imdb')]\n",
    "print(IMDBLink)\n",
    "driver.get(IMDBLink)\n",
    "html = driver.page_source\n",
    "soup = BeautifulSoup(html, \"html.parser\")\n"
   ]
  },
  {
   "cell_type": "code",
   "execution_count": 23,
   "metadata": {},
   "outputs": [
    {
     "name": "stdout",
     "output_type": "stream",
     "text": [
      "IMDB : 8.1/10\n",
      "Wonder (2017)\n",
      "GP | 1h 53min | Drama, Family | 1 December 2017 (Taiwan)\n",
      "Wonder (2017)\n"
     ]
    }
   ],
   "source": [
    "ImdbRating = driver.find_element_by_class_name(\"ratingValue\")\n",
    "print(\"IMDB : \" +ImdbRating.text)\n",
    "movieName = driver.find_element_by_class_name(\"title_wrapper\")\n",
    "print(movieName.text)\n",
    "imdbMovieName = driver.find_element_by_xpath(\"//*[@id='title-overview-widget']//h1\")\n",
    "print(imdbMovieName.text)\n",
    "#//*[@id=\"title-overview-widget\"]/div[2]/div[2]/div/div[2]/div[2]/h1/text()\n",
    "#\"//*[@id='UserContent']//span[@itemprop='description']\"\n",
    "\n",
    "\n",
    "#driver.quit()"
   ]
  },
  {
   "cell_type": "markdown",
   "metadata": {},
   "source": [
    "## 因為不知道如何filter掉 h1後方的span, 乾脆用soup把所有span拔掉"
   ]
  },
  {
   "cell_type": "code",
   "execution_count": 24,
   "metadata": {},
   "outputs": [
    {
     "name": "stdout",
     "output_type": "stream",
     "text": [
      "Wonder  \n"
     ]
    }
   ],
   "source": [
    "while len(soup.find_all('span')) > 0:\n",
    "    soup.span.extract()\n",
    "imdbMovieName2 = soup.find('h1', itemprop=\"name\").getText()\n",
    "print(imdbMovieName2)"
   ]
  },
  {
   "cell_type": "markdown",
   "metadata": {},
   "source": [
    "## 將得到的英文電影名稱丟到Rotten Tomato裡面查評價"
   ]
  },
  {
   "cell_type": "code",
   "execution_count": 25,
   "metadata": {
    "collapsed": true
   },
   "outputs": [],
   "source": [
    "RottenTomatoURL = \"https://www.rottentomatoes.com/\"\n",
    "RTpage = driver.get(RottenTomatoURL)\n"
   ]
  },
  {
   "cell_type": "code",
   "execution_count": 26,
   "metadata": {},
   "outputs": [
    {
     "name": "stdout",
     "output_type": "stream",
     "text": [
      "Wonder  \n"
     ]
    }
   ],
   "source": [
    "print(imdbMovieName2)\n",
    "RTsearchURL = \"https://www.rottentomatoes.com/search/?search=\"\n",
    "RTSearch = driver.get(RTsearchURL+imdbMovieName2)\n",
    "# get()方法會一直等到頁面被完全加載，然後才會繼續程序, 所以不需要sleep等待\n"
   ]
  },
  {
   "cell_type": "code",
   "execution_count": 27,
   "metadata": {},
   "outputs": [
    {
     "ename": "NoSuchElementException",
     "evalue": "Message: {\"errorMessage\":\"Unable to find element with class name 'tmeter'\",\"request\":{\"headers\":{\"Accept\":\"application/json\",\"Accept-Encoding\":\"identity\",\"Connection\":\"close\",\"Content-Length\":\"95\",\"Content-Type\":\"application/json;charset=UTF-8\",\"Host\":\"127.0.0.1:62513\",\"User-Agent\":\"Python http auth\"},\"httpVersion\":\"1.1\",\"method\":\"POST\",\"post\":\"{\\\"using\\\": \\\"class name\\\", \\\"value\\\": \\\"tmeter\\\", \\\"sessionId\\\": \\\"ad6010e0-058a-11e8-b0ce-5771806388b3\\\"}\",\"url\":\"/element\",\"urlParsed\":{\"anchor\":\"\",\"query\":\"\",\"file\":\"element\",\"directory\":\"/\",\"path\":\"/element\",\"relative\":\"/element\",\"port\":\"\",\"host\":\"\",\"password\":\"\",\"user\":\"\",\"userInfo\":\"\",\"authority\":\"\",\"protocol\":\"\",\"source\":\"/element\",\"queryKey\":{},\"chunks\":[\"element\"]},\"urlOriginal\":\"/session/ad6010e0-058a-11e8-b0ce-5771806388b3/element\"}}\nScreenshot: available via screen\n",
     "output_type": "error",
     "traceback": [
      "\u001b[1;31m---------------------------------------------------------------------------\u001b[0m",
      "\u001b[1;31mNoSuchElementException\u001b[0m                    Traceback (most recent call last)",
      "\u001b[1;32m<ipython-input-27-89a1b2132586>\u001b[0m in \u001b[0;36m<module>\u001b[1;34m()\u001b[0m\n\u001b[1;32m----> 1\u001b[1;33m \u001b[0mScore\u001b[0m \u001b[1;33m=\u001b[0m \u001b[0mdriver\u001b[0m\u001b[1;33m.\u001b[0m\u001b[0mfind_element_by_class_name\u001b[0m\u001b[1;33m(\u001b[0m\u001b[1;34m\"tmeter\"\u001b[0m\u001b[1;33m)\u001b[0m\u001b[1;33m\u001b[0m\u001b[0m\n\u001b[0m\u001b[0;32m      2\u001b[0m \u001b[1;31m###//span[contains(@class, 'tMeterScore')]\u001b[0m\u001b[1;33m\u001b[0m\u001b[1;33m\u001b[0m\u001b[0m\n\u001b[0;32m      3\u001b[0m \u001b[0mprint\u001b[0m\u001b[1;33m(\u001b[0m\u001b[0mScore\u001b[0m\u001b[1;33m.\u001b[0m\u001b[0mtext\u001b[0m\u001b[1;33m)\u001b[0m\u001b[1;33m\u001b[0m\u001b[0m\n",
      "\u001b[1;32mC:\\ProgramData\\Anaconda3\\lib\\site-packages\\selenium\\webdriver\\remote\\webdriver.py\u001b[0m in \u001b[0;36mfind_element_by_class_name\u001b[1;34m(self, name)\u001b[0m\n\u001b[0;32m    483\u001b[0m             \u001b[0mdriver\u001b[0m\u001b[1;33m.\u001b[0m\u001b[0mfind_element_by_class_name\u001b[0m\u001b[1;33m(\u001b[0m\u001b[1;34m'foo'\u001b[0m\u001b[1;33m)\u001b[0m\u001b[1;33m\u001b[0m\u001b[0m\n\u001b[0;32m    484\u001b[0m         \"\"\"\n\u001b[1;32m--> 485\u001b[1;33m         \u001b[1;32mreturn\u001b[0m \u001b[0mself\u001b[0m\u001b[1;33m.\u001b[0m\u001b[0mfind_element\u001b[0m\u001b[1;33m(\u001b[0m\u001b[0mby\u001b[0m\u001b[1;33m=\u001b[0m\u001b[0mBy\u001b[0m\u001b[1;33m.\u001b[0m\u001b[0mCLASS_NAME\u001b[0m\u001b[1;33m,\u001b[0m \u001b[0mvalue\u001b[0m\u001b[1;33m=\u001b[0m\u001b[0mname\u001b[0m\u001b[1;33m)\u001b[0m\u001b[1;33m\u001b[0m\u001b[0m\n\u001b[0m\u001b[0;32m    486\u001b[0m \u001b[1;33m\u001b[0m\u001b[0m\n\u001b[0;32m    487\u001b[0m     \u001b[1;32mdef\u001b[0m \u001b[0mfind_elements_by_class_name\u001b[0m\u001b[1;33m(\u001b[0m\u001b[0mself\u001b[0m\u001b[1;33m,\u001b[0m \u001b[0mname\u001b[0m\u001b[1;33m)\u001b[0m\u001b[1;33m:\u001b[0m\u001b[1;33m\u001b[0m\u001b[0m\n",
      "\u001b[1;32mC:\\ProgramData\\Anaconda3\\lib\\site-packages\\selenium\\webdriver\\remote\\webdriver.py\u001b[0m in \u001b[0;36mfind_element\u001b[1;34m(self, by, value)\u001b[0m\n\u001b[0;32m    841\u001b[0m         return self.execute(Command.FIND_ELEMENT, {\n\u001b[0;32m    842\u001b[0m             \u001b[1;34m'using'\u001b[0m\u001b[1;33m:\u001b[0m \u001b[0mby\u001b[0m\u001b[1;33m,\u001b[0m\u001b[1;33m\u001b[0m\u001b[0m\n\u001b[1;32m--> 843\u001b[1;33m             'value': value})['value']\n\u001b[0m\u001b[0;32m    844\u001b[0m \u001b[1;33m\u001b[0m\u001b[0m\n\u001b[0;32m    845\u001b[0m     \u001b[1;32mdef\u001b[0m \u001b[0mfind_elements\u001b[0m\u001b[1;33m(\u001b[0m\u001b[0mself\u001b[0m\u001b[1;33m,\u001b[0m \u001b[0mby\u001b[0m\u001b[1;33m=\u001b[0m\u001b[0mBy\u001b[0m\u001b[1;33m.\u001b[0m\u001b[0mID\u001b[0m\u001b[1;33m,\u001b[0m \u001b[0mvalue\u001b[0m\u001b[1;33m=\u001b[0m\u001b[1;32mNone\u001b[0m\u001b[1;33m)\u001b[0m\u001b[1;33m:\u001b[0m\u001b[1;33m\u001b[0m\u001b[0m\n",
      "\u001b[1;32mC:\\ProgramData\\Anaconda3\\lib\\site-packages\\selenium\\webdriver\\remote\\webdriver.py\u001b[0m in \u001b[0;36mexecute\u001b[1;34m(self, driver_command, params)\u001b[0m\n\u001b[0;32m    306\u001b[0m         \u001b[0mresponse\u001b[0m \u001b[1;33m=\u001b[0m \u001b[0mself\u001b[0m\u001b[1;33m.\u001b[0m\u001b[0mcommand_executor\u001b[0m\u001b[1;33m.\u001b[0m\u001b[0mexecute\u001b[0m\u001b[1;33m(\u001b[0m\u001b[0mdriver_command\u001b[0m\u001b[1;33m,\u001b[0m \u001b[0mparams\u001b[0m\u001b[1;33m)\u001b[0m\u001b[1;33m\u001b[0m\u001b[0m\n\u001b[0;32m    307\u001b[0m         \u001b[1;32mif\u001b[0m \u001b[0mresponse\u001b[0m\u001b[1;33m:\u001b[0m\u001b[1;33m\u001b[0m\u001b[0m\n\u001b[1;32m--> 308\u001b[1;33m             \u001b[0mself\u001b[0m\u001b[1;33m.\u001b[0m\u001b[0merror_handler\u001b[0m\u001b[1;33m.\u001b[0m\u001b[0mcheck_response\u001b[0m\u001b[1;33m(\u001b[0m\u001b[0mresponse\u001b[0m\u001b[1;33m)\u001b[0m\u001b[1;33m\u001b[0m\u001b[0m\n\u001b[0m\u001b[0;32m    309\u001b[0m             response['value'] = self._unwrap_value(\n\u001b[0;32m    310\u001b[0m                 response.get('value', None))\n",
      "\u001b[1;32mC:\\ProgramData\\Anaconda3\\lib\\site-packages\\selenium\\webdriver\\remote\\errorhandler.py\u001b[0m in \u001b[0;36mcheck_response\u001b[1;34m(self, response)\u001b[0m\n\u001b[0;32m    192\u001b[0m         \u001b[1;32melif\u001b[0m \u001b[0mexception_class\u001b[0m \u001b[1;33m==\u001b[0m \u001b[0mUnexpectedAlertPresentException\u001b[0m \u001b[1;32mand\u001b[0m \u001b[1;34m'alert'\u001b[0m \u001b[1;32min\u001b[0m \u001b[0mvalue\u001b[0m\u001b[1;33m:\u001b[0m\u001b[1;33m\u001b[0m\u001b[0m\n\u001b[0;32m    193\u001b[0m             \u001b[1;32mraise\u001b[0m \u001b[0mexception_class\u001b[0m\u001b[1;33m(\u001b[0m\u001b[0mmessage\u001b[0m\u001b[1;33m,\u001b[0m \u001b[0mscreen\u001b[0m\u001b[1;33m,\u001b[0m \u001b[0mstacktrace\u001b[0m\u001b[1;33m,\u001b[0m \u001b[0mvalue\u001b[0m\u001b[1;33m[\u001b[0m\u001b[1;34m'alert'\u001b[0m\u001b[1;33m]\u001b[0m\u001b[1;33m.\u001b[0m\u001b[0mget\u001b[0m\u001b[1;33m(\u001b[0m\u001b[1;34m'text'\u001b[0m\u001b[1;33m)\u001b[0m\u001b[1;33m)\u001b[0m\u001b[1;33m\u001b[0m\u001b[0m\n\u001b[1;32m--> 194\u001b[1;33m         \u001b[1;32mraise\u001b[0m \u001b[0mexception_class\u001b[0m\u001b[1;33m(\u001b[0m\u001b[0mmessage\u001b[0m\u001b[1;33m,\u001b[0m \u001b[0mscreen\u001b[0m\u001b[1;33m,\u001b[0m \u001b[0mstacktrace\u001b[0m\u001b[1;33m)\u001b[0m\u001b[1;33m\u001b[0m\u001b[0m\n\u001b[0m\u001b[0;32m    195\u001b[0m \u001b[1;33m\u001b[0m\u001b[0m\n\u001b[0;32m    196\u001b[0m     \u001b[1;32mdef\u001b[0m \u001b[0m_value_or_default\u001b[0m\u001b[1;33m(\u001b[0m\u001b[0mself\u001b[0m\u001b[1;33m,\u001b[0m \u001b[0mobj\u001b[0m\u001b[1;33m,\u001b[0m \u001b[0mkey\u001b[0m\u001b[1;33m,\u001b[0m \u001b[0mdefault\u001b[0m\u001b[1;33m)\u001b[0m\u001b[1;33m:\u001b[0m\u001b[1;33m\u001b[0m\u001b[0m\n",
      "\u001b[1;31mNoSuchElementException\u001b[0m: Message: {\"errorMessage\":\"Unable to find element with class name 'tmeter'\",\"request\":{\"headers\":{\"Accept\":\"application/json\",\"Accept-Encoding\":\"identity\",\"Connection\":\"close\",\"Content-Length\":\"95\",\"Content-Type\":\"application/json;charset=UTF-8\",\"Host\":\"127.0.0.1:62513\",\"User-Agent\":\"Python http auth\"},\"httpVersion\":\"1.1\",\"method\":\"POST\",\"post\":\"{\\\"using\\\": \\\"class name\\\", \\\"value\\\": \\\"tmeter\\\", \\\"sessionId\\\": \\\"ad6010e0-058a-11e8-b0ce-5771806388b3\\\"}\",\"url\":\"/element\",\"urlParsed\":{\"anchor\":\"\",\"query\":\"\",\"file\":\"element\",\"directory\":\"/\",\"path\":\"/element\",\"relative\":\"/element\",\"port\":\"\",\"host\":\"\",\"password\":\"\",\"user\":\"\",\"userInfo\":\"\",\"authority\":\"\",\"protocol\":\"\",\"source\":\"/element\",\"queryKey\":{},\"chunks\":[\"element\"]},\"urlOriginal\":\"/session/ad6010e0-058a-11e8-b0ce-5771806388b3/element\"}}\nScreenshot: available via screen\n"
     ]
    }
   ],
   "source": [
    "Score = driver.find_element_by_class_name(\"tmeter\")\n",
    "###//span[contains(@class, 'tMeterScore')]\n",
    "print(Score.text)"
   ]
  },
  {
   "cell_type": "code",
   "execution_count": null,
   "metadata": {
    "collapsed": true
   },
   "outputs": [],
   "source": []
  },
  {
   "cell_type": "code",
   "execution_count": null,
   "metadata": {
    "collapsed": true
   },
   "outputs": [],
   "source": []
  }
 ],
 "metadata": {
  "kernelspec": {
   "display_name": "Python 3",
   "language": "python",
   "name": "python3"
  },
  "language_info": {
   "codemirror_mode": {
    "name": "ipython",
    "version": 3
   },
   "file_extension": ".py",
   "mimetype": "text/x-python",
   "name": "python",
   "nbconvert_exporter": "python",
   "pygments_lexer": "ipython3",
   "version": "3.6.2"
  }
 },
 "nbformat": 4,
 "nbformat_minor": 2
}
