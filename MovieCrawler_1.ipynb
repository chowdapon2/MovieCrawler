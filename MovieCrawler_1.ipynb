{
 "cells": [
  {
   "cell_type": "code",
   "execution_count": 1,
   "metadata": {},
   "outputs": [
    {
     "name": "stdout",
     "output_type": "stream",
     "text": [
      "超速驾驶\n",
      "蜜桃女孩\n",
      "3月的狮子 后篇\n",
      "在哥伦布\n",
      "难以忽视的真相2\n",
      "昼行闪耀的流星\n",
      "玻璃城堡\n",
      "极寒之城\n",
      "英格丽向西行\n",
      "冷酷探戈\n",
      "汉普斯特德公园\n",
      "赛车总动员3：极速挑战\n",
      "亡命夜驰\n",
      "浓情酒乡\n",
      "复仇之火\n",
      "纽约唯一活着的男孩\n",
      "丛林\n",
      "从未在此\n",
      "人皮脸\n",
      "杀破狼·贪狼\n",
      "杀人者的记忆法\n",
      "女演员今天也\n",
      "3月的狮子 前篇\n",
      "名侦探柯南：唐红的恋歌\n",
      "西谎极落之太爆太子太空舱\n",
      "会痛的十七岁\n",
      "再见德国\n",
      "年轻的丈夫\n",
      "辣手保姆\n",
      "误入魔爪\n",
      "沉睡\n",
      "侠盗联盟\n",
      "99号牢房内的博弈\n",
      "迈耶罗维茨的故事\n",
      "M.F.A.\n",
      "厄运\n",
      "2017年最新电影_第1页-BT电影天堂\n"
     ]
    }
   ],
   "source": [
    "from selenium import webdriver\n",
    "from selenium.webdriver.common.keys import Keys\n",
    "import time\n",
    "from bs4 import BeautifulSoup\n",
    "\n",
    "url_list = \"http://www.btbtdy.com/screen/1--2017---time-1.html\"\n",
    "\n",
    "driver = webdriver.PhantomJS('C:\\\\Users\\\\Kevin_Chiou\\\\MovieCrawler\\\\phantomjs.exe')\n",
    "# get()方法會一直等到頁面被完全加載，然後才會繼續程序\n",
    "driver.get(url_list)\n",
    "\n",
    "# 把selenium的webdriver调用page_source函数在传入BeautifulSoup中，就可以用BeautifulSoup解析网页了\n",
    "html = driver.page_source\n",
    "soup = BeautifulSoup(html, \"html.parser\")\n",
    "#print (soup.prettify())\n",
    "# p_list = soup.find_all('p', class_='title')\n",
    "\n",
    "# for p in p_list:\n",
    "#     print(p.contents[0].text)\n",
    "\n",
    "\n",
    "# a_list = soup.find_all('a', target='_blank')\n",
    "# for a in a_list:\n",
    "#     print(a)\n",
    "#     print(\"a.content is %s\" % (a.contents))  \n",
    "\n",
    "# a_list = soup.find_all('a', target='_blank')\n",
    "# for a in a_list:\n",
    "#     print(a)\n",
    "#     print(\"a.content is %s\" % (a.contents))  \n",
    "\n",
    "\n",
    "\n",
    "# 打印獲取的文本內容\n",
    "#print(data)\n",
    "\n",
    "# 打印頁面標題：百度一下，你就知道\n",
    "print(driver.title)\n",
    "\n",
    "driver.quit()\n",
    "\n",
    "# http://www.btbtdy.com/ herf=btdy/dy11737.html"
   ]
  },
  {
   "cell_type": "markdown",
   "metadata": {
    "collapsed": true
   },
   "source": [
    "## 爬Imdb頁面"
   ]
  },
  {
   "cell_type": "code",
   "execution_count": 8,
   "metadata": {},
   "outputs": [
    {
     "name": "stdout",
     "output_type": "stream",
     "text": [
      "[<div class=\"ratingValue\">\n",
      "<strong title=\"7.2 based on 29 user ratings\"><span itemprop=\"ratingValue\">7.2</span></strong><span class=\"grey\">/</span><span class=\"grey\" itemprop=\"bestRating\">10</span> </div>]\n"
     ]
    }
   ],
   "source": [
    "from selenium import webdriver\n",
    "from selenium.webdriver.common.keys import Keys\n",
    "import time\n",
    "from bs4 import BeautifulSoup\n",
    "\n",
    "url_list = \"http://www.imdb.com/title/tt5556068/\"\n",
    "\n",
    "driver = webdriver.PhantomJS('C:\\\\Users\\\\Kevin_Chiou\\\\MovieCrawler\\\\phantomjs.exe')\n",
    "driver.get(url_list)\n",
    "\n",
    "# 把selenium的webdriver调用page_source函数在传入BeautifulSoup中，就可以用BeautifulSoup解析网页了\n",
    "html = driver.page_source\n",
    "soup = BeautifulSoup(html, \"html.parser\")\n",
    "\n",
    "d_list = soup.find_all('div', class_='ratingValue')\n",
    "\n",
    "print(d_list)\n",
    "# for d in d_list:\n",
    "#     print(d.descendants)\n",
    "\n",
    "driver.quit()"
   ]
  },
  {
   "cell_type": "code",
   "execution_count": 22,
   "metadata": {
    "scrolled": false
   },
   "outputs": [
    {
     "name": "stdout",
     "output_type": "stream",
     "text": [
      "<bound method WebElement.screenshot of <selenium.webdriver.remote.webelement.WebElement (session=\"9efeb7e0-d8d0-11e7-9b90-93beed7126a9\", element=\":wdc:1512377641674\")>>\n",
      "天才枪手 ฉลาดเกมส์โกง (2017)[可播放]\n",
      "https://movie.douban.com/subject/27024903/\n",
      "8.2\n",
      "http://www.imdb.com/title/tt6788942\n"
     ]
    }
   ],
   "source": [
    "from selenium import webdriver\n",
    "from selenium.webdriver.common.keys import Keys\n",
    "import time\n",
    "from bs4 import BeautifulSoup\n",
    "\n",
    "url_list = \"https://movie.douban.com/\"\n",
    "\n",
    "driver = webdriver.PhantomJS('C:\\\\Users\\\\Kevin_Chiou\\\\MovieCrawler\\\\phantomjs.exe')\n",
    "driver.get(url_list)\n",
    "\n",
    "# 把selenium的webdriver调用page_source函数在传入BeautifulSoup中，就可以用BeautifulSoup解析网页了\n",
    "html = driver.page_source\n",
    "soup = BeautifulSoup(html, \"html.parser\")\n",
    "\n",
    "inputSearch = driver.find_element_by_name(\"search_text\")\n",
    "\n",
    "print(inputSearch.screenshot)\n",
    "# for d in d_list:\n",
    "#     print(d.descendants)\n",
    "\n",
    "inputSearch.send_keys(u\"天才槍手\")\n",
    "inputSearch.submit()\n",
    "time.sleep(5)\n",
    "searchOutput = driver.find_element_by_class_name(\"title\")\n",
    "print(searchOutput.text)\n",
    "searchHerf = searchOutput.find_element_by_css_selector('a').get_attribute('href')\n",
    "print(searchHerf)\n",
    "rating_num = driver.find_element_by_class_name(\"rating_nums\")\n",
    "print(rating_num.text)\n",
    "\n",
    "driver.get(searchHerf)\n",
    "time.sleep(3)\n",
    "html = driver.page_source\n",
    "#IMDBLink = driver.find_element_by_xpath(\"//a[contains(text(), 'tt')]/@href\")\n",
    "IMDBLink = driver.find_element_by_partial_link_text(\"tt\").get_attribute('href')\n",
    "#IMDBLink = IMDBLink.find_element_by_css_selector('a').get_attribute('href')\n",
    "#//span[contains(@class, 'pl')]\n",
    "#//a[contains(text(), 'tt')]/@href\n",
    "#//a[contains(@href, 'imdb')]\n",
    "print(IMDBLink)\n",
    "driver.quit()"
   ]
  },
  {
   "cell_type": "code",
   "execution_count": null,
   "metadata": {
    "collapsed": true
   },
   "outputs": [],
   "source": []
  }
 ],
 "metadata": {
  "kernelspec": {
   "display_name": "Python 3",
   "language": "python",
   "name": "python3"
  },
  "language_info": {
   "codemirror_mode": {
    "name": "ipython",
    "version": 3
   },
   "file_extension": ".py",
   "mimetype": "text/x-python",
   "name": "python",
   "nbconvert_exporter": "python",
   "pygments_lexer": "ipython3",
   "version": "3.6.2"
  }
 },
 "nbformat": 4,
 "nbformat_minor": 2
}
