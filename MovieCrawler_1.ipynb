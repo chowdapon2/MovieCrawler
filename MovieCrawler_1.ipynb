{
 "cells": [
  {
   "cell_type": "code",
   "execution_count": null,
   "metadata": {},
   "outputs": [],
   "source": [
    "from selenium import webdriver\n",
    "from selenium.webdriver.common.keys import Keys\n",
    "import time\n",
    "from bs4 import BeautifulSoup\n",
    "\n",
    "url_list = \"http://www.btbtdy.com/screen/1--2017---time-1.html\"\n",
    "\n",
    "driver = webdriver.PhantomJS('C:\\\\Users\\\\Kevin_Chiou\\\\MovieCrawler\\\\phantomjs.exe')\n",
    "# get()方法會一直等到頁面被完全加載，然後才會繼續程序\n",
    "driver.get(url_list)\n",
    "\n",
    "# 把selenium的webdriver调用page_source函数在传入BeautifulSoup中，就可以用BeautifulSoup解析网页了\n",
    "html = driver.page_source\n",
    "soup = BeautifulSoup(html, \"html.parser\")\n",
    "#print (soup.prettify())\n",
    "# p_list = soup.find_all('p', class_='title')\n",
    "\n",
    "# for p in p_list:\n",
    "#     print(p.contents[0].text)\n",
    "\n",
    "\n",
    "# a_list = soup.find_all('a', target='_blank')\n",
    "# for a in a_list:\n",
    "#     print(a)\n",
    "#     print(\"a.content is %s\" % (a.contents))  \n",
    "\n",
    "# a_list = soup.find_all('a', target='_blank')\n",
    "# for a in a_list:\n",
    "#     print(a)\n",
    "#     print(\"a.content is %s\" % (a.contents))  \n",
    "\n",
    "\n",
    "\n",
    "# 打印獲取的文本內容\n",
    "#print(data)\n",
    "\n",
    "# 打印頁面標題：百度一下，你就知道\n",
    "print(driver.title)\n",
    "\n",
    "driver.quit()\n",
    "\n",
    "# http://www.btbtdy.com/ herf=btdy/dy11737.html"
   ]
  },
  {
   "cell_type": "markdown",
   "metadata": {
    "collapsed": true
   },
   "source": [
    "## 爬Imdb頁面"
   ]
  },
  {
   "cell_type": "code",
   "execution_count": null,
   "metadata": {},
   "outputs": [],
   "source": [
    "from selenium import webdriver\n",
    "from selenium.webdriver.common.keys import Keys\n",
    "import time\n",
    "from bs4 import BeautifulSoup\n",
    "\n",
    "url_list = \"http://www.imdb.com/title/tt5556068/\"\n",
    "\n",
    "driver = webdriver.PhantomJS('C:\\\\Users\\\\Kevin_Chiou\\\\MovieCrawler\\\\phantomjs.exe')\n",
    "driver.get(url_list)\n",
    "\n",
    "# 把selenium的webdriver调用page_source函数在传入BeautifulSoup中，就可以用BeautifulSoup解析网页了\n",
    "html = driver.page_source\n",
    "soup = BeautifulSoup(html, \"html.parser\")\n",
    "\n",
    "d_list = soup.find_all('div', class_='ratingValue')\n",
    "\n",
    "print(d_list)\n",
    "# for d in d_list:\n",
    "#     print(d.descendants)\n",
    "\n",
    "driver.quit()"
   ]
  },
  {
   "cell_type": "markdown",
   "metadata": {},
   "source": [
    "## 整理code如下\n"
   ]
  },
  {
   "cell_type": "code",
   "execution_count": 2,
   "metadata": {
    "scrolled": false
   },
   "outputs": [
    {
     "name": "stdout",
     "output_type": "stream",
     "text": [
      "<bound method WebElement.screenshot of <selenium.webdriver.remote.webelement.WebElement (session=\"a91dd440-da51-11e7-bcf9-5b89084d3eee\", element=\":wdc:1512543034996\")>>\n",
      "天才枪手 ฉลาดเกมส์โกง (2017)[可播放]\n",
      "https://movie.douban.com/subject/27024903/\n",
      "豆瓣 : 8.2\n",
      "http://www.imdb.com/title/tt6788942\n"
     ]
    }
   ],
   "source": [
    "from selenium import webdriver\n",
    "from selenium.webdriver.common.keys import Keys\n",
    "import time\n",
    "from bs4 import BeautifulSoup\n",
    "\n",
    "url_list = \"https://movie.douban.com/\"\n",
    "\n",
    "driver = webdriver.PhantomJS('C:\\\\Users\\\\Kevin_Chiou\\\\MovieCrawler\\\\phantomjs.exe')\n",
    "driver.get(url_list)\n",
    "\n",
    "# 把selenium的webdriver调用page_source函数在传入BeautifulSoup中，就可以用BeautifulSoup解析网页了\n",
    "html = driver.page_source\n",
    "soup = BeautifulSoup(html, \"html.parser\")\n",
    "\n",
    "#找豆瓣電影的search bar\n",
    "inputSearch = driver.find_element_by_name(\"search_text\")\n",
    "\n",
    "#這邊輸入你要的中文電影名稱 EX: ChineseMovieName = u\"挖崊老ㄙ\"\n",
    "ChineseMovieName = u\"天才槍手\"\n",
    "\n",
    "inputSearch.send_keys(ChineseMovieName)\n",
    "inputSearch.submit()\n",
    "time.sleep(2)\n",
    "\n",
    "#印出找到的電影名稱跟豆瓣評分\n",
    "searchOutput = driver.find_element_by_class_name(\"title\")\n",
    "print(searchOutput.text)\n",
    "searchHerf = searchOutput.find_element_by_css_selector('a').get_attribute('href')\n",
    "print(searchHerf)\n",
    "rating_num = driver.find_element_by_class_name(\"rating_nums\")\n",
    "print(\"豆瓣 : \"+rating_num.text)\n",
    "\n",
    "#點進去該電影後找Imdb的連結\n",
    "driver.get(searchHerf)\n",
    "time.sleep(3)\n",
    "html = driver.page_source\n",
    "IMDBLink = driver.find_element_by_partial_link_text(\"tt\").get_attribute('href')\n",
    "#IMDBLink = IMDBLink.find_element_by_css_selector('a').get_attribute('href')\n",
    "#//span[contains(@class, 'pl')]\n",
    "#//a[contains(text(), 'tt')]/@href\n",
    "#//a[contains(@href, 'imdb')]\n",
    "print(IMDBLink)\n",
    "driver.get(IMDBLink)\n",
    "html = driver.page_source\n",
    "soup = BeautifulSoup(html, \"html.parser\")\n",
    "time.sleep(2)\n",
    "\n"
   ]
  },
  {
   "cell_type": "code",
   "execution_count": null,
   "metadata": {},
   "outputs": [],
   "source": [
    "ImdbRating = driver.find_element_by_class_name(\"ratingValue\")\n",
    "print(\"IMDB : \" +ImdbRating.text)\n",
    "movieName = driver.find_element_by_class_name(\"title_wrapper\")\n",
    "print(movieName.text)\n",
    "imdbMovieName = driver.find_element_by_xpath(\"//*[@id='title-overview-widget']//h1\")\n",
    "print(imdbMovieName.text)\n",
    "#//*[@id=\"title-overview-widget\"]/div[2]/div[2]/div/div[2]/div[2]/h1/text()\n",
    "#\"//*[@id='UserContent']//span[@itemprop='description']\"\n",
    "\n",
    "\n",
    "#driver.quit()"
   ]
  },
  {
   "cell_type": "markdown",
   "metadata": {},
   "source": [
    "## 因為不知道如何filter掉 h1後方的span, 乾脆用soup把所有span拔掉"
   ]
  },
  {
   "cell_type": "code",
   "execution_count": null,
   "metadata": {},
   "outputs": [],
   "source": [
    "while len(soup.find_all('span')) > 0:\n",
    "    soup.span.extract()\n",
    "imdbMovieName2 = soup.find('h1', itemprop=\"name\").getText()\n",
    "print(imdbMovieName2)"
   ]
  },
  {
   "cell_type": "markdown",
   "metadata": {},
   "source": [
    "## 將得到的英文電影名稱丟到Rotten Tomato裡面查評價"
   ]
  },
  {
   "cell_type": "code",
   "execution_count": null,
   "metadata": {},
   "outputs": [],
   "source": [
    "RottenTomatoURL = \"https://www.rottentomatoes.com/\"\n",
    "RTpage = driver.get(RottenTomatoURL)\n"
   ]
  },
  {
   "cell_type": "code",
   "execution_count": null,
   "metadata": {},
   "outputs": [],
   "source": [
    "print(imdbMovieName2)\n",
    "RTsearchURL = \"https://www.rottentomatoes.com/search/?search=\"\n",
    "RTSearch = driver.get(RTsearchURL+imdbMovieName2)\n",
    "time.sleep(2)"
   ]
  },
  {
   "cell_type": "code",
   "execution_count": null,
   "metadata": {},
   "outputs": [],
   "source": [
    "Score = driver.find_element_by_class_name(\"tmeter\")\n",
    "###//span[contains(@class, 'tMeterScore')]\n",
    "print(Score.text)"
   ]
  },
  {
   "cell_type": "code",
   "execution_count": null,
   "metadata": {
    "collapsed": true
   },
   "outputs": [],
   "source": []
  }
 ],
 "metadata": {
  "kernelspec": {
   "display_name": "Python 3",
   "language": "python",
   "name": "python3"
  },
  "language_info": {
   "codemirror_mode": {
    "name": "ipython",
    "version": 3
   },
   "file_extension": ".py",
   "mimetype": "text/x-python",
   "name": "python",
   "nbconvert_exporter": "python",
   "pygments_lexer": "ipython3",
   "version": "3.6.2"
  }
 },
 "nbformat": 4,
 "nbformat_minor": 2
}
